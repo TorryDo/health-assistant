{
  "nbformat": 4,
  "nbformat_minor": 0,
  "metadata": {
    "colab": {
      "provenance": []
    },
    "kernelspec": {
      "name": "python3",
      "display_name": "Python 3"
    },
    "language_info": {
      "name": "python"
    }
  },
  "cells": [
    {
      "cell_type": "code",
      "source": [
        "import pandas as pd\n",
        "from sklearn.model_selection import train_test_split\n",
        "from sklearn.preprocessing import StandardScaler\n",
        "from keras.models import Sequential\n",
        "from keras.layers import Conv1D, MaxPooling1D, Flatten, Dense\n",
        "\n",
        "# Đọc dữ liệu từ file CSV\n",
        "data = pd.read_csv('HealthData.csv')\n",
        "\n",
        "# Tách features và labels\n",
        "X = data[['pulse', 'body_temperature', 'SpO2']]\n",
        "y = data['Status']\n",
        "\n",
        "# Chuẩn hóa dữ liệu\n",
        "scaler = StandardScaler()\n",
        "X_scaled = scaler.fit_transform(X)\n",
        "\n",
        "# Chia dữ liệu thành tập huấn luyện và tập kiểm tra\n",
        "X_train, X_test, y_train, y_test = train_test_split(X_scaled, y, test_size=0.2, random_state=42)\n",
        "\n",
        "# Khởi tạo mô hình\n",
        "model = Sequential()\n",
        "\n",
        "# Thêm lớp convolutional đầu tiên\n",
        "model.add(Conv1D(filters=32, kernel_size=3, activation='relu', input_shape=(X_train.shape[1], 1)))\n",
        "\n",
        "# Thêm lớp pooling\n",
        "model.add(MaxPooling1D(pool_size=1))\n",
        "\n",
        "# Làm phẳng dữ liệu đầu ra từ các lớp convolutional và pooling\n",
        "model.add(Flatten())\n",
        "\n",
        "# Thêm lớp fully connected\n",
        "model.add(Dense(128, activation='relu'))\n",
        "\n",
        "# Lớp đầu ra với activation là softmax vì đây là bài toán phân loại\n",
        "model.add(Dense(3, activation='softmax'))\n",
        "\n",
        "# Compile mô hình\n",
        "model.compile(optimizer='adam', loss='sparse_categorical_crossentropy', metrics=['accuracy'])\n",
        "\n",
        "# Huấn luyện mô hình\n",
        "model.fit(X_train.reshape((X_train.shape[0], X_train.shape[1], 1)), y_train, epochs=10, batch_size=32, validation_data=(X_test.reshape((X_test.shape[0], X_test.shape[1], 1)), y_test))\n"
      ],
      "metadata": {
        "colab": {
          "base_uri": "https://localhost:8080/"
        },
        "id": "wU7tLzoaFKml",
        "outputId": "0873c118-791c-4d9a-f7bb-427bd2dd9aaf"
      },
      "execution_count": 12,
      "outputs": [
        {
          "output_type": "stream",
          "name": "stdout",
          "text": [
            "Epoch 1/10\n",
            "148/148 [==============================] - 2s 6ms/step - loss: 0.4563 - accuracy: 0.8737 - val_loss: 0.1349 - val_accuracy: 0.9755\n",
            "Epoch 2/10\n",
            "148/148 [==============================] - 0s 3ms/step - loss: 0.0781 - accuracy: 0.9837 - val_loss: 0.0558 - val_accuracy: 0.9873\n",
            "Epoch 3/10\n",
            "148/148 [==============================] - 0s 2ms/step - loss: 0.0390 - accuracy: 0.9915 - val_loss: 0.0428 - val_accuracy: 0.9805\n",
            "Epoch 4/10\n",
            "148/148 [==============================] - 0s 2ms/step - loss: 0.0275 - accuracy: 0.9947 - val_loss: 0.0260 - val_accuracy: 0.9958\n",
            "Epoch 5/10\n",
            "148/148 [==============================] - 0s 2ms/step - loss: 0.0216 - accuracy: 0.9962 - val_loss: 0.0212 - val_accuracy: 0.9983\n",
            "Epoch 6/10\n",
            "148/148 [==============================] - 0s 2ms/step - loss: 0.0189 - accuracy: 0.9943 - val_loss: 0.0201 - val_accuracy: 0.9983\n",
            "Epoch 7/10\n",
            "148/148 [==============================] - 0s 2ms/step - loss: 0.0174 - accuracy: 0.9960 - val_loss: 0.0164 - val_accuracy: 1.0000\n",
            "Epoch 8/10\n",
            "148/148 [==============================] - 0s 2ms/step - loss: 0.0149 - accuracy: 0.9972 - val_loss: 0.0146 - val_accuracy: 0.9958\n",
            "Epoch 9/10\n",
            "148/148 [==============================] - 0s 2ms/step - loss: 0.0133 - accuracy: 0.9977 - val_loss: 0.0125 - val_accuracy: 0.9992\n",
            "Epoch 10/10\n",
            "148/148 [==============================] - 0s 2ms/step - loss: 0.0120 - accuracy: 0.9977 - val_loss: 0.0150 - val_accuracy: 0.9941\n"
          ]
        },
        {
          "output_type": "execute_result",
          "data": {
            "text/plain": [
              "<keras.src.callbacks.History at 0x79c875ad6a70>"
            ]
          },
          "metadata": {},
          "execution_count": 12
        }
      ]
    },
    {
      "cell_type": "code",
      "source": [
        "# Lưu mô hình vào file\n",
        "model.save('health_model.h5')\n",
        "from keras.models import load_model\n",
        "\n",
        "# Load mô hình từ file\n",
        "loaded_model = load_model('health_model.h5')"
      ],
      "metadata": {
        "colab": {
          "base_uri": "https://localhost:8080/"
        },
        "id": "FKVro4bWFygP",
        "outputId": "4064d110-fceb-4258-f684-9964f5aa26ad"
      },
      "execution_count": 14,
      "outputs": [
        {
          "output_type": "stream",
          "name": "stderr",
          "text": [
            "/usr/local/lib/python3.10/dist-packages/keras/src/engine/training.py:3103: UserWarning: You are saving your model as an HDF5 file via `model.save()`. This file format is considered legacy. We recommend using instead the native Keras format, e.g. `model.save('my_model.keras')`.\n",
            "  saving_api.save_model(\n"
          ]
        }
      ]
    },
    {
      "cell_type": "code",
      "source": [
        "import numpy as np\n",
        "\n",
        "# Chuẩn hóa dữ liệu mới\n",
        "X_new = np.array([[88, 36, 91]])  # Dữ liệu mới cần dự đoán\n",
        "X_new_scaled = scaler.transform(X_new)\n",
        "\n",
        "# Mở rộng kích thước của dữ liệu\n",
        "X_new_scaled = np.expand_dims(X_new_scaled, axis=2)\n",
        "\n",
        "# Dự đoán trên dữ liệu mới\n",
        "predictions = loaded_model.predict(X_new_scaled)\n",
        "predicted_class = np.argmax(predictions)\n",
        "print(predicted_class)\n"
      ],
      "metadata": {
        "colab": {
          "base_uri": "https://localhost:8080/"
        },
        "id": "POw5vqt6Fpgj",
        "outputId": "f780ee90-5758-42ed-c02a-4a22a0c312aa"
      },
      "execution_count": 20,
      "outputs": [
        {
          "output_type": "stream",
          "name": "stdout",
          "text": [
            "1/1 [==============================] - 0s 32ms/step\n",
            "1\n"
          ]
        },
        {
          "output_type": "stream",
          "name": "stderr",
          "text": [
            "/usr/local/lib/python3.10/dist-packages/sklearn/base.py:439: UserWarning: X does not have valid feature names, but StandardScaler was fitted with feature names\n",
            "  warnings.warn(\n"
          ]
        }
      ]
    }
  ]
}